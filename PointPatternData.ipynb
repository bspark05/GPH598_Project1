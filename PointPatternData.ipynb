{

 "metadata": {

  "name": "",

  "signature": "sha256:1be8e291db25c5975eef940b6664360b62450ca0a6038f21a146b4b6e5b36005"

 },

 "nbformat": 3,

 "nbformat_minor": 0,

 "worksheets": [

  {

   "cells": [

    {

     "cell_type": "markdown",

     "metadata": {},

     "source": [

      "# Point Pattern Data and Algorithms\n",

      "### Dustin Wolkis, Deborah Ayodele, Yuhan Huang, Bumsub Park, Robert Madera, Joe DePesa, Jules Doyen, Kailai Wang  "

     ]

    },

    {

     "cell_type": "markdown",

     "metadata": {},

     "source": [

      "- Reading and writing different file formats for point pattern data\n",

      "- Descriptive statistics for points\n",

      "- Computational geometry algorithms for points (MBR and Convex Hulls)"

     ]

    },

    {

     "cell_type": "markdown",

     "metadata": {},

     "source": [

      "#Class Document\n",

      "==================\n",

      "##[File IO](http://docs.scipy.org/doc/numpy/reference/generated/numpy.loadtxt.html)\n",

      "Method |Description                                               \n",

      "---|---\n",

      "pysal.core.FileIO.FileIO.**[open](http://www.pysal.org/library/open.html#FileIO.open)**(connectionString, mode) | Parses the connectionString and mode to determine the correct file handler. If a custom handler is not found a python file object will be returned.\n",

      "FileIO.**open**(connectionString, mode='r') | Parses the String and return a list containing values.\n",

      "\n",

      "##Descriptive point patterns [ I ](https://github.com/GPH498598F14/GPH498598F14/blob/master/project/05_point_pattern_basics.pdf)&[ II ](https://github.com/GPH498598F14/GPH498598F14/blob/master/project/09_point_distance.pdf)\n",

      "\n",

      "Method |Description                                               \n",

      "---|---\n",

      "Statistics.**meanCenter**(points) | Calculate mean center of points and return the coordinates of the point\n",

      "Statistics.**medianCenter**(points) | Calculate median center of points and return the coordinates of the point\n",

      "Statistics.**weightedMeanCenter**(weight, points) | Calculate weighted mean center of points with weight matrix and return the coordinates of the point\n",

      "Statistics.**standardDistance**(points, weightedMeanCenter) | Cacluate standard distance of points and return the distance\n",

      "Statistics.**centerOfMinimumDistance**(points, diff) | Find center of minimum distance of points using quadtree until the difference of distance become smaller than 'diff' and return the coordinates of the point\n",

      "Statistics.**makeQuaterPoints**(centerPoint, width, height) | Make a quadtree using center point and size of width and height and return four center points of quadrat\n",

      "Statistics.**findRectangle**(quaterPoints, pointsArray) | Find the rectangle with minimum distance among quadrats and return the coordinate of center\n",

      "\n",

      "\n",

      "##Polygon\n",

      "Method |Description                                               \n",

      "---|---\n",

      "scipy.spatial.**[ConvexHull](http://docs.scipy.org/doc/scipy-dev/reference/generated/scipy.spatial.ConvexHull.html)**(points[, incremental, qhull_options]) | Creates a Convex hulls in N dimensions.\n",

      "Polygon.**makeConvexHull**(points[, incremental, qhull_options]) | Returns coordinates of a Convex hull in numpy 2-D array\n",

      "Polygon.**makeMBR**(points) | Returns coordinates of a MBR in numpy 2-D array\n"

     ]

    },

    {

     "cell_type": "markdown",

     "metadata": {},

     "source": [

      "## Reading different file formats for point pattern data"

     ]

    },

    {

     "cell_type": "markdown",

     "metadata": {},

     "source": [

      "- Description of coding used - notes \n",

      "- Code\n",

      "- Graphics or output"

     ]

    },

    {

     "cell_type": "markdown",

     "metadata": {},

     "source": [

      "#### function in FileIO.py"

     ]

    },

    {

     "cell_type": "raw",

     "metadata": {},

     "source": [

      "import pysal\n",

      "\n",

      "def openFile(connectionString, mode='r'):\n",

      "        point = pysal.pysal.core.FileIO.FileIO.open(connectionString, mode='r')  # @UndefinedVariable\n",

      "        point.seek(0)\n",

      "        outputList = []\n",

      "        for i in point:\n",

      "            outputList.append(i)\n",

      "        return outputList"

     ]

    },

    {

     "cell_type": "markdown",

     "metadata": {},

     "source": [

      "## Descriptive Statistics for Points"

     ]

    },

    {

     "cell_type": "markdown",

     "metadata": {},

     "source": [

      "- Description of coding used - notes \n",

      "- Code\n",

      "- Graphics or output"

     ]

    },

    {

     "cell_type": "markdown",

     "metadata": {},

     "source": [

      "#### function in Statistics.py"

     ]

    },

    {

     "cell_type": "raw",

     "metadata": {},

     "source": [

      "import numpy as np\n",

      "import math\n",

      "import Polygon as poly\n",

      "\n",

      "def meanCenter(points):\n",

      "    pointsArray = np.array(points)\n",

      "    mnCenter = np.mean(pointsArray, axis=0)\n",

      "    #print(mnCenter)\n",

      "    return mnCenter\n",

      "\n",

      "def medianCenter(points):\n",

      "    pointsArray = np.array(points)\n",

      "    medCenter = np.median(pointsArray, axis=0)\n",

      "    #print(medCenter)\n",

      "    return medCenter\n",

      "\n",

      "def weightedMeanCenter(weight, points):\n",

      "    pointsArray = np.array(points)\n",

      "    weightArray = np.array(weight)\n",

      "    \n",

      "    weightArray1 = weightArray*pointsArray\n",

      "    wmc = sum(weightArray1)/sum(weightArray)\n",

      "    return wmc\n",

      "\n",

      "def standardDistance(points, weightedMeanCenter):\n",

      "    pointsArray = np.array(points)\n",

      "    WMCArray = np.array(weightedMeanCenter)\n",

      "    sd1 = sum((pointsArray-WMCArray)**2)/len(pointsArray)\n",

      "    sd2 = math.sqrt(sd1[0]+sd1[1])\n",

      "    return sd2\n",

      "\n",

      "\n",

      "def centerOfMinimumDistance(points, diff):\n",

      "    pointsArray = np.array(points)\n",

      "    extent = poly.makeMBR(points)\n",

      "    initCenter = [(extent[1][0]+extent[0][0])/2, (extent[2][1]+extent[1][1])/2]\n",

      "    initHeight = (extent[2][1]-extent[1][1])/4\n",

      "    initWidth = (extent[1][0]-extent[0][0])/4\n",

      "    \n",

      "    center = initCenter\n",

      "    width = initWidth\n",

      "    height = initHeight\n",

      "    \n",

      "    times = 0\n",

      "    difference = -1\n",

      "    \n",

      "    while difference > diff or difference == -1:\n",

      "        quaterPoints = makeQuaterPoints(center, width, height)\n",

      "        newCenter = findRectangle(quaterPoints, pointsArray)\n",

      "        \n",

      "        difference = math.sqrt((center[0]-newCenter[0])**2 + (center[1]-newCenter[1])**2)\n",

      "        \n",

      "        center = newCenter\n",

      "        \n",

      "        width = width/2\n",

      "        height = height/2\n",

      "        times +=1  \n",

      "    \n",

      "    return center\n",

      "    \n",

      "        \n",

      "def makeQuaterPoints(centerPoint, width, height):\n",

      "    pointsList =[]\n",

      "    pointsList.append([centerPoint[0]-width, centerPoint[1]-height])\n",

      "    pointsList.append([centerPoint[0]+width, centerPoint[1]-height])\n",

      "    pointsList.append([centerPoint[0]+width, centerPoint[1]+height])\n",

      "    pointsList.append([centerPoint[0]-width, centerPoint[1]+height])\n",

      "    pointsArray = np.array(pointsList)\n",

      "    #print(pointsList)\n",

      "    \n",

      "    return pointsArray\n",

      "\n",

      "def findRectangle(quaterPoints, pointsArray):\n",

      "    minDistance = -1\n",

      "    minDistanceCoor = []\n",

      "\n",

      "    for stdPoint in quaterPoints:\n",

      "        tempDist = 0\n",

      "        for point in pointsArray:\n",

      "            tempDist += (point[0]-stdPoint[0])**2+(point[1]-stdPoint[1])**2\n",

      "        \n",

      "        if minDistance>tempDist or minDistance == -1:\n",

      "            minDistance = tempDist\n",

      "            #print(minDistance)\n",

      "            minDistanceCoor = stdPoint\n",

      "            \n",

      "    return minDistanceCoor\n",

      "            "

     ]

    },

    {

     "cell_type": "markdown",

     "metadata": {},

     "source": [

      "## Computational Geometry Algorithms for Points"

     ]

    },

    {

     "cell_type": "markdown",

     "metadata": {},

     "source": [

      "- Description of coding used - notes \n",

      "- Code\n",

      "- Graphics or output"

     ]

    },

    {

     "cell_type": "markdown",

     "metadata": {},

     "source": [

      "#### function in Polygon.py"

     ]

    },

    {

     "cell_type": "raw",

     "metadata": {},

     "source": [

      "from scipy.spatial.qhull import ConvexHull\n",

      "import numpy as np\n",

      " \n",

      "\n",

      "def __init__(self, params):\n",

      "    '''\n",

      "    Constructor\n",

      "    '''\n",

      "        \n",

      "def makeConvexHull(points, incremental=False, qhull_options=None):\n",

      "    hull = ConvexHull(points, incremental=False, qhull_options=None)\n",

      "    convexHullList=[]\n",

      "    for j in hull.vertices:\n",

      "        convexHullList.append([points[j][0], points[j][1]])\n",

      "    convexHullArray = np.array(convexHullList)\n",

      "    return convexHullArray\n",

      "    \n",

      "def makeMBR(points):\n",

      "    min_x, min_y = np.min(points, axis=0)\n",

      "    max_x, max_y = np.max(points, axis=0)\n",

      "    mbrArray = np.array([(min_x, min_y), (max_x, min_y), (max_x, max_y), (min_x, max_y)])\n",

      "    return mbrArray"

     ]

    },

    {

     "cell_type": "markdown",

     "metadata": {},

     "source": [

      "## Example"

     ]

    },

    {

     "cell_type": "code",

     "collapsed": false,

     "input": [

      "import FileIO as io\n",

      "import Polygon as poly\n",

      "import Statistics as stat\n",

      "import matplotlib.pyplot as plt\n",

      "import numpy as np\n",

      "\n",

      "if __name__ == '__main__':\n",

      "    # Open different types of data(shp, txt, csv)\n",

      "    # Returns are List\n",

      "    inputPoints = io.openFile('data/cities.shp', mode='r')\n",

      "    inputPointsText = io.openFile('data/cities.txt', mode ='r')\n",

      "    inputPointsCSV = io.openFile('data/cities.csv')\n",

      "    #print(inputPoints)\n",

      "    #print(inputPointsText)\n",

      "    #print(inputPointsCSV)"

     ],

     "language": "python",

     "metadata": {},

     "outputs": [],

     "prompt_number": 8

    },

    {

     "cell_type": "code",

     "collapsed": false,

     "input": [

      "# convert List to numpy.Array\n",

      "inputArray = np.array(inputPoints)\n",

      "print(inputArray)"

     ],

     "language": "python",

     "metadata": {},

     "outputs": [

      {

       "output_type": "stream",

       "stream": "stdout",

       "text": [

        "[[-2446326.1836  3481560.6652]\n",

        " [-2442706.2319  3477891.911 ]\n",

        " [-1277959.5     1040037.2824]\n",

        " ..., \n",

        " [ 1919160.0889   452489.9747]\n",

        " [ 1917182.6624   457749.275 ]\n",

        " [ 1936612.0357   452062.0202]]\n"

       ]

      }

     ],

     "prompt_number": 9

    },

    {

     "cell_type": "code",

     "collapsed": false,

     "input": [

      "# make convex hull using points\n",

      "convexHullArray = poly.makeConvexHull(inputPoints)\n",

      "\n",

      "# make MBR (Minimum Bounding Rectangle)\n",

      "mbrArray = poly.makeMBR(inputPoints)\n",

      "\n",

      "# plot convex hull and MBR\n",

      "# red solid line - convex hull / blue solid line - MBR / black dots - cities\n",

      "plt.plot(convexHullArray[:,0], convexHullArray[:,1], 'r-')\n",

      "plt.plot(inputArray[:,0], inputArray[:,1], 'k.')\n",

      "plt.plot(mbrArray[:,0], mbrArray[:,1],'b-*')"

     ],

     "language": "python",

     "metadata": {},

     "outputs": [

      {

       "metadata": {},

       "output_type": "pyout",

       "prompt_number": 10,

       "text": [

        "[<matplotlib.lines.Line2D at 0x71d23f0>]"

       ]

      },

      {

       "metadata": {},

       "output_type": "display_data",

       "png": "[encoded data removed]",

       "text": [

        "<matplotlib.figure.Figure at 0x7197930>"

       ]

      }

     ],

     "prompt_number": 10

    },

    {

     "cell_type": "code",

     "collapsed": false,

     "input": [

      "# find out mean center of points\n",

      "# red x is the mean center on the map below\n",

      "meanCenterArray = []\n",

      "meanCenterArray = stat.meanCenter(inputPoints)\n",

      "print(meanCenterArray)\n",

      "plt.plot(convexHullArray[:,0], convexHullArray[:,1], 'r-')\n",

      "plt.plot(inputArray[:,0], inputArray[:,1], 'k.')\n",

      "plt.plot(mbrArray[:,0], mbrArray[:,1],'b-*')\n",

      "plt.plot(meanCenterArray[0],meanCenterArray[1], 'rx')"

     ],

     "language": "python",

     "metadata": {},

     "outputs": [

      {

       "output_type": "stream",

       "stream": "stdout",

       "text": [

        "[ 333117.61463733 -108306.20226455]\n"

       ]

      },

      {

       "metadata": {},

       "output_type": "pyout",

       "prompt_number": 11,

       "text": [

        "[<matplotlib.lines.Line2D at 0x7202cf0>]"

       ]

      },

      {

       "metadata": {},

       "output_type": "display_data",

       "png": "[encoded data removed]",

       "text": [

        "<matplotlib.figure.Figure at 0x71b5bd0>"

       ]

      }

     ],

     "prompt_number": 11

    },

    {

     "cell_type": "code",

     "collapsed": false,

     "input": [

      "# calculate median center\n",

      "# red x is the median center of the map\n",

      "medianCenterArray = []\n",

      "medianCenterArray = stat.medianCenter(inputPoints)\n",

      "print(medianCenterArray)\n",

      "plt.plot(convexHullArray[:,0], convexHullArray[:,1], 'r-')\n",

      "plt.plot(inputArray[:,0], inputArray[:,1], 'k.')\n",

      "plt.plot(mbrArray[:,0], mbrArray[:,1],'b-*')\n",

      "plt.plot(medianCenterArray[0],medianCenterArray[1], 'rx')"

     ],

     "language": "python",

     "metadata": {},

     "outputs": [

      {

       "output_type": "stream",

       "stream": "stdout",

       "text": [

        "[ 726639.9507   46007.5126]\n"

       ]

      },

      {

       "metadata": {},

       "output_type": "pyout",

       "prompt_number": 12,

       "text": [

        "[<matplotlib.lines.Line2D at 0x7220fb0>]"

       ]

      },

      {

       "metadata": {},

       "output_type": "display_data",

       "png": "[encoded data removed]",

       "text": [

        "<matplotlib.figure.Figure at 0x720cd90>"

       ]

      }

     ],

     "prompt_number": 12

    },

    {

     "cell_type": "code",

     "collapsed": false,

     "input": [

      "# calculate mean center with weight\n",

      "# The weight is (pop2000 in each city / pop2000 average)\n",

      "weightedMeanCenterArray = []\n",

      "# open a csv file with weights\n",

      "inputWeight = io.openFile('data/cities.csv', mode='r')\n",

      "weightList = []\n",

      "for j in inputWeight:\n",

      "    weightList.append([j[10], j[11]])\n",

      "weightArray =np.array(weightList)\n",

      "#print(weightArray)\n",

      "\n",

      "weightedMeanCenterArray = stat.weightedMeanCenter(weightArray, inputPoints)\n",

      "print(weightedMeanCenterArray)\n",

      "\n",

      "plt.plot(convexHullArray[:,0], convexHullArray[:,1], 'r-')\n",

      "plt.plot(inputArray[:,0], inputArray[:,1], 'k.')\n",

      "plt.plot(mbrArray[:,0], mbrArray[:,1],'b-*')\n",

      "plt.plot(weightedMeanCenterArray[0],weightedMeanCenterArray[1], 'rx')"

     ],

     "language": "python",

     "metadata": {},

     "outputs": [

      {

       "output_type": "stream",

       "stream": "stdout",

       "text": [

        "[ 144171.22538621 -144748.30166674]\n"

       ]

      },

      {

       "metadata": {},

       "output_type": "pyout",

       "prompt_number": 13,

       "text": [

        "[<matplotlib.lines.Line2D at 0x71bb1d0>]"

       ]

      },

      {

       "metadata": {},

       "output_type": "display_data",

       "png": "[encoded data removed]",

       "text": [

        "<matplotlib.figure.Figure at 0x7192290>"

       ]

      }

     ],

     "prompt_number": 13

    },

    {

     "cell_type": "code",

     "collapsed": false,

     "input": [

      "# calculate standard distance\n",

      "# the number is standard distance and it can be drawn like the green circle on the map\n",

      "sd= stat.standardDistance(inputPoints, weightedMeanCenterArray)\n",

      "circle1 = plt.Circle(weightedMeanCenterArray, sd, color ='g')\n",

      "plt.plot(convexHullArray[:,0], convexHullArray[:,1], 'r-')\n",

      "plt.plot(inputArray[:,0], inputArray[:,1], 'k.')\n",

      "plt.plot(mbrArray[:,0], mbrArray[:,1],'b-*')\n",

      "fig = plt.gcf()\n",

      "fig.gca().add_artist(circle1)\n",

      "print(sd)"

     ],

     "language": "python",

     "metadata": {},

     "outputs": [

      {

       "output_type": "stream",

       "stream": "stdout",

       "text": [

        "1507809.40736\n"

       ]

      },

      {

       "metadata": {},

       "output_type": "display_data",

       "png": "[encoded data removed]",

       "text": [

        "<matplotlib.figure.Figure at 0x71a1a10>"

       ]

      }

     ],

     "prompt_number": 14

    },

    {

     "cell_type": "code",

     "collapsed": false,

     "input": [

      "# calculate center of minimum distance using quadtree\n",

      "# red x is the center of minimum distance of the points\n",

      "\n",

      "center = stat.centerOfMinimumDistance(inputPoints, 1)\n",

      "\n",

      "plt.plot(convexHullArray[:,0], convexHullArray[:,1], 'r-')\n",

      "plt.plot(inputArray[:,0], inputArray[:,1], 'k.')\n",

      "plt.plot(mbrArray[:,0], mbrArray[:,1],'b-*')\n",

      "plt.plot(center[0], center[1], 'rx')\n",

      "plt.show()"

     ],

     "language": "python",

     "metadata": {},

     "outputs": [

      {

       "metadata": {},

       "output_type": "display_data",

       "png": "[encoded data removed]",

       "text": [

        "<matplotlib.figure.Figure at 0x71d7890>"

       ]

      }

     ],

     "prompt_number": 15

    }

   ],

   "metadata": {}

  }

 ]

}
