{
 "metadata": {
  "name": "",
  "signature": "sha256:a4af07c5d27ed8479ac235af3137b92dcccda9df4153e3db73383aafb8022560"
 },
 "nbformat": 3,
 "nbformat_minor": 0,
 "worksheets": [
  {
   "cells": [
    {
     "cell_type": "markdown",
     "metadata": {},
     "source": [
      "# Point Pattern Data and Algorithms\n",
      "### Dustin Wolkis, Deborah Ayodele, Yuhan Huang, Bunsub Park, Robert Madera, Joe DePesa, Jules Doyen, Kailai Wang  "
     ]
    },
    {
     "cell_type": "markdown",
     "metadata": {},
     "source": [
      "- Reading and writing different file formats for point pattern data\n",
      "- Descriptive statistics for points\n",
      "- Computational geometry algorithms for points (MBR and Convex Hulls)"
     ]
    },
    {
     "cell_type": "markdown",
     "metadata": {},
     "source": [
      "## Reading and writing different file formats for point pattern data"
     ]
    },
    {
     "cell_type": "markdown",
     "metadata": {},
     "source": [
      "- Description of coding used - notes \n",
      "- Code\n",
      "- Graphics or output"
     ]
    },
    {
     "cell_type": "markdown",
     "metadata": {},
     "source": [
      "#### \"example Introduction:\" The following code represents the first step in reading different file formats"
     ]
    },
    {
     "cell_type": "code",
     "collapsed": false,
     "input": [
      "def openFile(connectionString, mode='r'):\n",
      "        point = pysal.pysal.core.FileIO.FileIO.open(connectionString, mode='r')  # @UndefinedVariable\n",
      "        point.seek(0)\n",
      "        outputArray = []\n",
      "        for i in point:\n",
      "            outputArray.append(i)\n",
      "        return outputArray"
     ],
     "language": "python",
     "metadata": {},
     "outputs": [],
     "prompt_number": 3
    },
    {
     "cell_type": "code",
     "collapsed": false,
     "input": [],
     "language": "python",
     "metadata": {},
     "outputs": []
    },
    {
     "cell_type": "markdown",
     "metadata": {},
     "source": [
      "## Descriptive Statistics for Points"
     ]
    },
    {
     "cell_type": "markdown",
     "metadata": {},
     "source": [
      "- Description of coding used - notes \n",
      "- Code\n",
      "- Graphics or output"
     ]
    },
    {
     "cell_type": "markdown",
     "metadata": {},
     "source": [
      "## Computational Geometry Algorithms for Points"
     ]
    },
    {
     "cell_type": "markdown",
     "metadata": {},
     "source": [
      "- Description of coding used - notes \n",
      "- Code\n",
      "- Graphics or output"
     ]
    },
    {
     "cell_type": "code",
     "collapsed": false,
     "input": [],
     "language": "python",
     "metadata": {},
     "outputs": []
    }
   ],
   "metadata": {}
  }
 ]
}
